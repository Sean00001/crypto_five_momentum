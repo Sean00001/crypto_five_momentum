{
 "cells": [
  {
   "cell_type": "code",
   "execution_count": null,
   "id": "92532a2e",
   "metadata": {},
   "outputs": [],
   "source": [
    "# import pandas as pd\n",
    "\n",
    "# def getData(the_code):\n",
    "#     def clearSpace(value):\n",
    "#         return value.strip()\n",
    "\n",
    "#     price_data = pd.read_csv('./taiwan-index-price-data.txt', encoding='cp950')\n",
    "#     price_data['證券代碼'] = price_data['證券代碼'].apply(clearSpace)\n",
    "#     price_data['簡稱'] = price_data['簡稱'].apply(clearSpace)\n",
    "#     target_data = price_data[price_data['證券代碼'] == the_code]\n",
    "#     target_data['ret'] = target_data['收盤價(元)'].diff(1)/target_data['收盤價(元)'].shift(1)\n",
    "#     target_data = target_data.dropna()\n",
    "#     target_data = target_data.reset_index(drop=True)\n",
    "#     return target_data"
   ]
  },
  {
   "cell_type": "code",
   "execution_count": 5,
   "id": "a9a7c368",
   "metadata": {},
   "outputs": [
    {
     "data": {
      "text/html": [
       "<div>\n",
       "<style scoped>\n",
       "    .dataframe tbody tr th:only-of-type {\n",
       "        vertical-align: middle;\n",
       "    }\n",
       "\n",
       "    .dataframe tbody tr th {\n",
       "        vertical-align: top;\n",
       "    }\n",
       "\n",
       "    .dataframe thead th {\n",
       "        text-align: right;\n",
       "    }\n",
       "</style>\n",
       "<table border=\"1\" class=\"dataframe\">\n",
       "  <thead>\n",
       "    <tr style=\"text-align: right;\">\n",
       "      <th></th>\n",
       "      <th>證券代碼</th>\n",
       "      <th>簡稱</th>\n",
       "      <th>年月日</th>\n",
       "      <th>開盤價(元)</th>\n",
       "      <th>最高價(元)</th>\n",
       "      <th>最低價(元)</th>\n",
       "      <th>收盤價(元)</th>\n",
       "      <th>成交量(千股)</th>\n",
       "      <th>成交值(千元)</th>\n",
       "    </tr>\n",
       "  </thead>\n",
       "  <tbody>\n",
       "    <tr>\n",
       "      <th>0</th>\n",
       "      <td>M2600</td>\n",
       "      <td>航運業類指數</td>\n",
       "      <td>20000104</td>\n",
       "      <td>59.04</td>\n",
       "      <td>60.47</td>\n",
       "      <td>59.04</td>\n",
       "      <td>60.40</td>\n",
       "      <td>48998</td>\n",
       "      <td>789553</td>\n",
       "    </tr>\n",
       "    <tr>\n",
       "      <th>1</th>\n",
       "      <td>M2500</td>\n",
       "      <td>建材營造類指數</td>\n",
       "      <td>20000104</td>\n",
       "      <td>146.31</td>\n",
       "      <td>147.83</td>\n",
       "      <td>145.89</td>\n",
       "      <td>147.01</td>\n",
       "      <td>80948</td>\n",
       "      <td>663013</td>\n",
       "    </tr>\n",
       "    <tr>\n",
       "      <th>2</th>\n",
       "      <td>M2000</td>\n",
       "      <td>鋼鐵工業類指數</td>\n",
       "      <td>20000104</td>\n",
       "      <td>62.00</td>\n",
       "      <td>64.20</td>\n",
       "      <td>61.29</td>\n",
       "      <td>64.20</td>\n",
       "      <td>148838</td>\n",
       "      <td>2897076</td>\n",
       "    </tr>\n",
       "    <tr>\n",
       "      <th>3</th>\n",
       "      <td>M1900</td>\n",
       "      <td>造紙工業類指數</td>\n",
       "      <td>20000104</td>\n",
       "      <td>159.59</td>\n",
       "      <td>163.96</td>\n",
       "      <td>158.45</td>\n",
       "      <td>163.96</td>\n",
       "      <td>29928</td>\n",
       "      <td>490216</td>\n",
       "    </tr>\n",
       "    <tr>\n",
       "      <th>4</th>\n",
       "      <td>M1800</td>\n",
       "      <td>玻璃陶瓷類指數</td>\n",
       "      <td>20000104</td>\n",
       "      <td>40.81</td>\n",
       "      <td>41.46</td>\n",
       "      <td>40.71</td>\n",
       "      <td>41.06</td>\n",
       "      <td>10859</td>\n",
       "      <td>133555</td>\n",
       "    </tr>\n",
       "    <tr>\n",
       "      <th>...</th>\n",
       "      <td>...</td>\n",
       "      <td>...</td>\n",
       "      <td>...</td>\n",
       "      <td>...</td>\n",
       "      <td>...</td>\n",
       "      <td>...</td>\n",
       "      <td>...</td>\n",
       "      <td>...</td>\n",
       "      <td>...</td>\n",
       "    </tr>\n",
       "    <tr>\n",
       "      <th>26495</th>\n",
       "      <td>M2600</td>\n",
       "      <td>航運業類指數</td>\n",
       "      <td>20210518</td>\n",
       "      <td>143.56</td>\n",
       "      <td>150.02</td>\n",
       "      <td>140.69</td>\n",
       "      <td>149.98</td>\n",
       "      <td>1041310</td>\n",
       "      <td>52349049</td>\n",
       "    </tr>\n",
       "    <tr>\n",
       "      <th>26496</th>\n",
       "      <td>M2500</td>\n",
       "      <td>建材營造類指數</td>\n",
       "      <td>20210518</td>\n",
       "      <td>323.63</td>\n",
       "      <td>337.87</td>\n",
       "      <td>323.63</td>\n",
       "      <td>337.87</td>\n",
       "      <td>84512</td>\n",
       "      <td>1648731</td>\n",
       "    </tr>\n",
       "    <tr>\n",
       "      <th>26497</th>\n",
       "      <td>M2000</td>\n",
       "      <td>鋼鐵工業類指數</td>\n",
       "      <td>20210518</td>\n",
       "      <td>153.85</td>\n",
       "      <td>160.76</td>\n",
       "      <td>153.85</td>\n",
       "      <td>160.73</td>\n",
       "      <td>583380</td>\n",
       "      <td>19865004</td>\n",
       "    </tr>\n",
       "    <tr>\n",
       "      <th>26498</th>\n",
       "      <td>M1900</td>\n",
       "      <td>造紙工業類指數</td>\n",
       "      <td>20210518</td>\n",
       "      <td>362.34</td>\n",
       "      <td>388.72</td>\n",
       "      <td>360.59</td>\n",
       "      <td>388.49</td>\n",
       "      <td>114018</td>\n",
       "      <td>2674719</td>\n",
       "    </tr>\n",
       "    <tr>\n",
       "      <th>26499</th>\n",
       "      <td>M1800</td>\n",
       "      <td>玻璃陶瓷類指數</td>\n",
       "      <td>20210518</td>\n",
       "      <td>63.54</td>\n",
       "      <td>69.66</td>\n",
       "      <td>63.54</td>\n",
       "      <td>69.62</td>\n",
       "      <td>91755</td>\n",
       "      <td>2361738</td>\n",
       "    </tr>\n",
       "  </tbody>\n",
       "</table>\n",
       "<p>26500 rows × 9 columns</p>\n",
       "</div>"
      ],
      "text/plain": [
       "          證券代碼       簡稱       年月日  開盤價(元)  最高價(元)  最低價(元)  收盤價(元)  成交量(千股)  \\\n",
       "0      M2600    航運業類指數   20000104   59.04   60.47   59.04   60.40    48998   \n",
       "1      M2500    建材營造類指數  20000104  146.31  147.83  145.89  147.01    80948   \n",
       "2      M2000    鋼鐵工業類指數  20000104   62.00   64.20   61.29   64.20   148838   \n",
       "3      M1900    造紙工業類指數  20000104  159.59  163.96  158.45  163.96    29928   \n",
       "4      M1800    玻璃陶瓷類指數  20000104   40.81   41.46   40.71   41.06    10859   \n",
       "...        ...      ...       ...     ...     ...     ...     ...      ...   \n",
       "26495  M2600    航運業類指數   20210518  143.56  150.02  140.69  149.98  1041310   \n",
       "26496  M2500    建材營造類指數  20210518  323.63  337.87  323.63  337.87    84512   \n",
       "26497  M2000    鋼鐵工業類指數  20210518  153.85  160.76  153.85  160.73   583380   \n",
       "26498  M1900    造紙工業類指數  20210518  362.34  388.72  360.59  388.49   114018   \n",
       "26499  M1800    玻璃陶瓷類指數  20210518   63.54   69.66   63.54   69.62    91755   \n",
       "\n",
       "        成交值(千元)  \n",
       "0        789553  \n",
       "1        663013  \n",
       "2       2897076  \n",
       "3        490216  \n",
       "4        133555  \n",
       "...         ...  \n",
       "26495  52349049  \n",
       "26496   1648731  \n",
       "26497  19865004  \n",
       "26498   2674719  \n",
       "26499   2361738  \n",
       "\n",
       "[26500 rows x 9 columns]"
      ]
     },
     "execution_count": 5,
     "metadata": {},
     "output_type": "execute_result"
    }
   ],
   "source": [
    "import pandas as pd\n",
    "price_data = pd.read_csv('./taiwan-index-price-data.txt', encoding='cp950')\n",
    "price_data"
   ]
  },
  {
   "cell_type": "code",
   "execution_count": 6,
   "id": "d57e6bcf",
   "metadata": {},
   "outputs": [
    {
     "data": {
      "text/plain": [
       "0         60.40\n",
       "1        147.01\n",
       "2         64.20\n",
       "3        163.96\n",
       "4         41.06\n",
       "          ...  \n",
       "26495    149.98\n",
       "26496    337.87\n",
       "26497    160.73\n",
       "26498    388.49\n",
       "26499     69.62\n",
       "Name: 收盤價(元), Length: 26500, dtype: float64"
      ]
     },
     "execution_count": 6,
     "metadata": {},
     "output_type": "execute_result"
    }
   ],
   "source": [
    "price_data['收盤價(元)']"
   ]
  },
  {
   "cell_type": "code",
   "execution_count": 7,
   "id": "3bfe1c31",
   "metadata": {},
   "outputs": [],
   "source": []
  },
  {
   "cell_type": "code",
   "execution_count": 8,
   "id": "89149d59",
   "metadata": {},
   "outputs": [
    {
     "data": {
      "text/plain": [
       "0       36880.5\n",
       "1       40717.2\n",
       "2       36720.5\n",
       "3       42897.3\n",
       "4       43541.3\n",
       "         ...   \n",
       "3956        0.1\n",
       "3957        0.1\n",
       "3958        0.1\n",
       "3959        0.1\n",
       "3960        0.1\n",
       "Name: 收盤價, Length: 3961, dtype: float64"
      ]
     },
     "execution_count": 8,
     "metadata": {},
     "output_type": "execute_result"
    }
   ],
   "source": [
    "BTC_data['收盤價']"
   ]
  },
  {
   "cell_type": "code",
   "execution_count": 9,
   "id": "037bf53c",
   "metadata": {},
   "outputs": [],
   "source": [
    "def clearSpace(value):\n",
    "        return value.strip()\n"
   ]
  },
  {
   "cell_type": "code",
   "execution_count": null,
   "id": "71bd72a4",
   "metadata": {},
   "outputs": [],
   "source": [
    "price_data['證券代碼'] = price_data['證券代碼'].apply(clearSpace)\n",
    "price_data['證券代碼']"
   ]
  },
  {
   "cell_type": "code",
   "execution_count": null,
   "id": "9685b66f",
   "metadata": {},
   "outputs": [],
   "source": [
    "price_data['簡稱'] = price_data['簡稱'].apply(clearSpace)\n",
    "price_data['簡稱'] "
   ]
  },
  {
   "cell_type": "code",
   "execution_count": null,
   "id": "9fa75d30",
   "metadata": {},
   "outputs": [],
   "source": [
    "the_code = 'M1800'"
   ]
  },
  {
   "cell_type": "code",
   "execution_count": null,
   "id": "9c47c5e0",
   "metadata": {},
   "outputs": [],
   "source": [
    "target_data = price_data[price_data['證券代碼'] == the_code]\n",
    "target_data"
   ]
  },
  {
   "cell_type": "code",
   "execution_count": null,
   "id": "94059326",
   "metadata": {},
   "outputs": [],
   "source": []
  },
  {
   "cell_type": "code",
   "execution_count": null,
   "id": "538223df",
   "metadata": {},
   "outputs": [],
   "source": [
    "target_data['ret'] = target_data['收盤價(元)'].diff(1)/target_data['收盤價(元)'].shift(1)\n",
    "target_data['ret']"
   ]
  },
  {
   "cell_type": "code",
   "execution_count": null,
   "id": "23c4938b",
   "metadata": {},
   "outputs": [],
   "source": [
    "target_data = target_data.dropna()\n",
    "target_data"
   ]
  },
  {
   "cell_type": "code",
   "execution_count": null,
   "id": "cf3c1b8e",
   "metadata": {},
   "outputs": [],
   "source": [
    "target_data = target_data.reset_index(drop=True)\n",
    "target_data"
   ]
  },
  {
   "cell_type": "code",
   "execution_count": null,
   "id": "b9dc9004",
   "metadata": {},
   "outputs": [],
   "source": []
  },
  {
   "cell_type": "code",
   "execution_count": null,
   "id": "8fb1a832",
   "metadata": {},
   "outputs": [],
   "source": []
  }
 ],
 "metadata": {
  "kernelspec": {
   "display_name": "Python 3",
   "language": "python",
   "name": "python3"
  },
  "language_info": {
   "codemirror_mode": {
    "name": "ipython",
    "version": 3
   },
   "file_extension": ".py",
   "mimetype": "text/x-python",
   "name": "python",
   "nbconvert_exporter": "python",
   "pygments_lexer": "ipython3",
   "version": "3.8.3"
  }
 },
 "nbformat": 4,
 "nbformat_minor": 5
}
